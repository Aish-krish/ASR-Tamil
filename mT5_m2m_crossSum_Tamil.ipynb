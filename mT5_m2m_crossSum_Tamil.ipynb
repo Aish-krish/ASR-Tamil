{
  "cells": [
    {
      "cell_type": "code",
      "source": [
        "!pip install transformers\n",
        "!pip install sentencepiece"
      ],
      "metadata": {
        "colab": {
          "base_uri": "https://localhost:8080/"
        },
        "id": "Edo8-W2t29Ik",
        "outputId": "fe50d214-a608-4e2f-870f-fcfd6ff9741f"
      },
      "execution_count": null,
      "outputs": [
        {
          "output_type": "stream",
          "name": "stdout",
          "text": [
            "Requirement already satisfied: transformers in /usr/local/lib/python3.10/dist-packages (4.35.2)\n",
            "Requirement already satisfied: filelock in /usr/local/lib/python3.10/dist-packages (from transformers) (3.13.1)\n",
            "Requirement already satisfied: huggingface-hub<1.0,>=0.16.4 in /usr/local/lib/python3.10/dist-packages (from transformers) (0.20.3)\n",
            "Requirement already satisfied: numpy>=1.17 in /usr/local/lib/python3.10/dist-packages (from transformers) (1.23.5)\n",
            "Requirement already satisfied: packaging>=20.0 in /usr/local/lib/python3.10/dist-packages (from transformers) (23.2)\n",
            "Requirement already satisfied: pyyaml>=5.1 in /usr/local/lib/python3.10/dist-packages (from transformers) (6.0.1)\n",
            "Requirement already satisfied: regex!=2019.12.17 in /usr/local/lib/python3.10/dist-packages (from transformers) (2023.12.25)\n",
            "Requirement already satisfied: requests in /usr/local/lib/python3.10/dist-packages (from transformers) (2.31.0)\n",
            "Requirement already satisfied: tokenizers<0.19,>=0.14 in /usr/local/lib/python3.10/dist-packages (from transformers) (0.15.1)\n",
            "Requirement already satisfied: safetensors>=0.3.1 in /usr/local/lib/python3.10/dist-packages (from transformers) (0.4.2)\n",
            "Requirement already satisfied: tqdm>=4.27 in /usr/local/lib/python3.10/dist-packages (from transformers) (4.66.1)\n",
            "Requirement already satisfied: fsspec>=2023.5.0 in /usr/local/lib/python3.10/dist-packages (from huggingface-hub<1.0,>=0.16.4->transformers) (2023.6.0)\n",
            "Requirement already satisfied: typing-extensions>=3.7.4.3 in /usr/local/lib/python3.10/dist-packages (from huggingface-hub<1.0,>=0.16.4->transformers) (4.5.0)\n",
            "Requirement already satisfied: charset-normalizer<4,>=2 in /usr/local/lib/python3.10/dist-packages (from requests->transformers) (3.3.2)\n",
            "Requirement already satisfied: idna<4,>=2.5 in /usr/local/lib/python3.10/dist-packages (from requests->transformers) (3.6)\n",
            "Requirement already satisfied: urllib3<3,>=1.21.1 in /usr/local/lib/python3.10/dist-packages (from requests->transformers) (2.0.7)\n",
            "Requirement already satisfied: certifi>=2017.4.17 in /usr/local/lib/python3.10/dist-packages (from requests->transformers) (2023.11.17)\n",
            "Requirement already satisfied: sentencepiece in /usr/local/lib/python3.10/dist-packages (0.1.99)\n"
          ]
        }
      ]
    },
    {
      "cell_type": "code",
      "source": [
        "from google.colab import drive\n",
        "drive.mount('/content/drive')"
      ],
      "metadata": {
        "colab": {
          "base_uri": "https://localhost:8080/"
        },
        "id": "QjMeB6Nk1Whr",
        "outputId": "a917bdb2-1df7-497d-b8f1-50d421ed0a14"
      },
      "execution_count": null,
      "outputs": [
        {
          "output_type": "stream",
          "name": "stdout",
          "text": [
            "Mounted at /content/drive\n"
          ]
        }
      ]
    },
    {
      "cell_type": "code",
      "execution_count": 9,
      "metadata": {
        "colab": {
          "base_uri": "https://localhost:8080/"
        },
        "id": "Xvsen08QYdfX",
        "outputId": "a7f66a6c-4b42-43dc-afd1-370ca4e23081"
      },
      "outputs": [
        {
          "output_type": "stream",
          "name": "stdout",
          "text": [
            "   id                                            article\n",
            "0   1  நாலு ஆள் உயரம், முறுக்கு மீசை, கையில் வீச்சரிவ...\n",
            "1   2  அமானுஷ்யமான சம்பவங்கள் நம்மை சுற்றி ஆங்காங்கே ...\n",
            "2   3  காமன்வெல்த் போட்டி ஏற்பாட்டில் நடைபெற்ற முறைகே...\n",
            "3   4  தென்அமெரிக்க நாடான பெருவில் காடுகள் மிகவும் பய...\n",
            "4   5  கடந்த 18ம் தேதி சாயங்காலம்... அடைமழையை கிழித்த...\n",
            "0\n",
            "1\n",
            "2\n",
            "3\n",
            "4\n",
            "5\n",
            "6\n",
            "7\n",
            "8\n",
            "9\n"
          ]
        }
      ],
      "source": [
        "\n",
        "from transformers import AutoModel, AutoTokenizer\n",
        "import re\n",
        "import pandas as pd\n",
        "from transformers import AutoTokenizer, AutoModelForSeq2SeqLM\n",
        "WHITESPACE_HANDLER = lambda k: re.sub('\\s+', ' ', re.sub('\\n+', ' ', k.strip()))\n",
        "model_name = \"csebuetnlp/mT5_m2m_crossSum\"\n",
        "tokenizer = AutoTokenizer.from_pretrained(model_name, use_fast=False)\n",
        "model = AutoModelForSeq2SeqLM.from_pretrained(model_name)\n",
        "get_lang_id = lambda lang: tokenizer._convert_token_to_id(model.config.task_specific_params[\"langid_map\"][lang][1])\n",
        "\n",
        "\n",
        "\n",
        "def generate(article_text,target_lang):\n",
        "  input_ids = tokenizer(\n",
        "      [WHITESPACE_HANDLER(article_text)],\n",
        "      return_tensors=\"pt\",\n",
        "      padding=\"max_length\",\n",
        "      truncation=True,\n",
        "      max_length=512\n",
        "  )[\"input_ids\"]\n",
        "  output_ids = model.generate(\n",
        "      input_ids=input_ids,\n",
        "      decoder_start_token_id=get_lang_id(target_lang),\n",
        "      max_length=84,\n",
        "      no_repeat_ngram_size=2,\n",
        "      num_beams=4,\n",
        "  )[0]\n",
        "  return output_ids\n",
        "\n",
        "\n",
        "path=\"/content/drive/My Drive/0Fyp/summ/news_data_200.csv\"\n",
        "#path='news_data_10.csv'\n",
        "df = pd.read_csv(path)\n",
        "print(df.head())\n",
        "\n",
        "\n",
        "n=len(df)\n",
        "\n",
        "\n",
        "target_lang = \"tamil\" #give target language\n",
        "given_id=[]\n",
        "generated_summary=[]\n",
        "for i in range(n):\n",
        "  article_text=df.iloc[i]['article']\n",
        "  given_id.append(df.iloc[i]['id'])\n",
        "  output_ids=generate(article_text,target_lang)\n",
        "  summary = tokenizer.decode(\n",
        "    output_ids,\n",
        "    skip_special_tokens=True,\n",
        "    clean_up_tokenization_spaces=False\n",
        "  )\n",
        "  generated_summary.append(summary)\n",
        "  print(i)\n",
        "\n",
        "k = pd.DataFrame({'id':given_id,'summary':generated_summary})\n",
        "\n",
        "# saving the dataframe\n",
        "k.to_csv('summ_m2m_200.csv')\n",
        "\n"
      ]
    },
    {
      "cell_type": "code",
      "source": [
        "import shutil\n",
        "shutil.copy('summary.csv', '/content/drive/My Drive/0Fyp/summ')"
      ],
      "metadata": {
        "colab": {
          "base_uri": "https://localhost:8080/",
          "height": 36
        },
        "id": "JzMC8sIHCyIu",
        "outputId": "29a1dde9-d32f-4d4c-f6f0-6f0578c70631"
      },
      "execution_count": null,
      "outputs": [
        {
          "output_type": "execute_result",
          "data": {
            "text/plain": [
              "'/content/drive/My Drive/0Fyp/summ/summary.csv'"
            ],
            "application/vnd.google.colaboratory.intrinsic+json": {
              "type": "string"
            }
          },
          "metadata": {},
          "execution_count": 6
        }
      ]
    }
  ],
  "metadata": {
    "colab": {
      "provenance": []
    },
    "kernelspec": {
      "display_name": "Python 3",
      "name": "python3"
    },
    "language_info": {
      "name": "python"
    }
  },
  "nbformat": 4,
  "nbformat_minor": 0
}